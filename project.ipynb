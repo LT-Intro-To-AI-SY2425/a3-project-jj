{
 "cells": [
  {
   "cell_type": "code",
   "execution_count": 197,
   "metadata": {},
   "outputs": [],
   "source": [
    "import pandas as pd\n",
    "from match import match\n",
    "from typing import List, Tuple, Callable, Any"
   ]
  },
  {
   "cell_type": "code",
   "execution_count": 198,
   "metadata": {},
   "outputs": [],
   "source": [
    "df = pd.read_csv(\"data.csv\")"
   ]
  },
  {
   "cell_type": "code",
   "execution_count": 199,
   "metadata": {},
   "outputs": [],
   "source": [
    "def grade_by_name(matches: str) -> str:\n",
    "    r = ((df[df[\"Name\"] == matches])[\"Grade Level\"])\n",
    "\n",
    "    return str(r.values[0])\n",
    "    "
   ]
  },
  {
   "cell_type": "code",
   "execution_count": 200,
   "metadata": {},
   "outputs": [],
   "source": [
    "def nationalPassRate_by_name(matches: str) -> str:\n",
    "    r = ((df[df[\"Name\"] == matches])[\"National Pass Rate\"])\n",
    "\n",
    "    return str(r.values[0])"
   ]
  },
  {
   "cell_type": "code",
   "execution_count": 201,
   "metadata": {},
   "outputs": [],
   "source": [
    "def lanePassRate_by_name(matches: str) -> str:\n",
    "    r = ((df[df[\"Name\"] == matches])[\"Lane Pass Rate\"])\n",
    "\n",
    "    return str(r.values[0])"
   ]
  },
  {
   "cell_type": "code",
   "execution_count": 202,
   "metadata": {},
   "outputs": [],
   "source": [
    "def levelOfChallenge_by_name(matches: str) -> str:\n",
    "    r = ((df[df[\"Name\"] == matches])[\"Level of Challange\"])\n",
    "\n",
    "    return str(r.values[0])"
   ]
  },
  {
   "cell_type": "code",
   "execution_count": 203,
   "metadata": {},
   "outputs": [],
   "source": [
    "def catagory_by_name(matches: str) -> str:\n",
    "    r = ((df[df[\"Name\"] == matches])[\"Catagory\"])\n",
    "\n",
    "    return str(r.values[0])"
   ]
  },
  {
   "cell_type": "code",
   "execution_count": 204,
   "metadata": {},
   "outputs": [
    {
     "data": {
      "text/plain": [
       "'-1.0'"
      ]
     },
     "execution_count": 204,
     "metadata": {},
     "output_type": "execute_result"
    }
   ],
   "source": []
  },
  {
   "cell_type": "code",
   "execution_count": null,
   "metadata": {},
   "outputs": [],
   "source": []
  },
  {
   "cell_type": "code",
   "execution_count": null,
   "metadata": {},
   "outputs": [],
   "source": []
  }
 ],
 "metadata": {
  "kernelspec": {
   "display_name": "base",
   "language": "python",
   "name": "python3"
  },
  "language_info": {
   "codemirror_mode": {
    "name": "ipython",
    "version": 3
   },
   "file_extension": ".py",
   "mimetype": "text/x-python",
   "name": "python",
   "nbconvert_exporter": "python",
   "pygments_lexer": "ipython3",
   "version": "3.12.4"
  }
 },
 "nbformat": 4,
 "nbformat_minor": 2
}
